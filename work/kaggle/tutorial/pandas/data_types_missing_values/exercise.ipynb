{
 "cells": [
  {
   "cell_type": "code",
   "execution_count": 28,
   "id": "6ab0b334-040c-4ec1-948e-6dc13a20459c",
   "metadata": {},
   "outputs": [],
   "source": [
    "import pandas as pd\n",
    "\n",
    "reviews = pd.read_csv(\"../../input/wine-reviews/winemag-data-130k-v2.csv\", index_col=0)"
   ]
  },
  {
   "cell_type": "code",
   "execution_count": 2,
   "id": "2497ba4c-b5ce-40ce-89b0-3d0d8b0d15a7",
   "metadata": {},
   "outputs": [
    {
     "data": {
      "text/plain": [
       "dtype('int64')"
      ]
     },
     "execution_count": 2,
     "metadata": {},
     "output_type": "execute_result"
    }
   ],
   "source": [
    "reviews.points.dtype"
   ]
  },
  {
   "cell_type": "code",
   "execution_count": 3,
   "id": "f0f3086d-4d11-4be0-ac34-eafe0e46a7b4",
   "metadata": {},
   "outputs": [
    {
     "data": {
      "text/plain": [
       "0         87\n",
       "1         87\n",
       "2         87\n",
       "3         87\n",
       "4         87\n",
       "          ..\n",
       "129966    90\n",
       "129967    90\n",
       "129968    90\n",
       "129969    90\n",
       "129970    90\n",
       "Name: points, Length: 129971, dtype: object"
      ]
     },
     "execution_count": 3,
     "metadata": {},
     "output_type": "execute_result"
    }
   ],
   "source": [
    "reviews.points.astype('str')"
   ]
  },
  {
   "cell_type": "code",
   "execution_count": 11,
   "id": "38a71ff2-1b92-4c30-b5e1-d0cbc3969446",
   "metadata": {},
   "outputs": [
    {
     "data": {
      "text/plain": [
       "8996"
      ]
     },
     "execution_count": 11,
     "metadata": {},
     "output_type": "execute_result"
    }
   ],
   "source": [
    "len(reviews[reviews.price.isnull()])"
   ]
  },
  {
   "cell_type": "code",
   "execution_count": 10,
   "id": "6e053d0d-23b1-4f66-96e9-96f8cf2b2f0c",
   "metadata": {},
   "outputs": [
    {
     "data": {
      "text/plain": [
       "8996"
      ]
     },
     "execution_count": 10,
     "metadata": {},
     "output_type": "execute_result"
    }
   ],
   "source": [
    "len(reviews[pd.isnull(reviews.price)])"
   ]
  },
  {
   "cell_type": "code",
   "execution_count": 12,
   "id": "9100c81d-ff9a-4acc-99a6-e3b02a6e5d6b",
   "metadata": {},
   "outputs": [
    {
     "data": {
      "text/plain": [
       "np.int64(8996)"
      ]
     },
     "execution_count": 12,
     "metadata": {},
     "output_type": "execute_result"
    }
   ],
   "source": [
    "reviews.price.isnull().sum()"
   ]
  },
  {
   "cell_type": "code",
   "execution_count": 27,
   "id": "2613cc3a-7f9e-40be-91cc-9983cf6d85f4",
   "metadata": {},
   "outputs": [
    {
     "data": {
      "text/plain": [
       "region_1\n",
       "Unknown                                     21247\n",
       "Napa Valley                                  4480\n",
       "Columbia Valley (WA)                         4124\n",
       "Russian River Valley                         3091\n",
       "California                                   2629\n",
       "                                            ...  \n",
       "Napa-Sonoma-Marin                               1\n",
       "Offida Rosso                                    1\n",
       "Ohio                                            1\n",
       "Vin de Pays de la Haute Vallée du Gassac        1\n",
       "Côtes de Forez                                  1\n",
       "Name: region_1, Length: 1230, dtype: int64"
      ]
     },
     "execution_count": 27,
     "metadata": {},
     "output_type": "execute_result"
    }
   ],
   "source": [
    "reviews.region_1 = reviews.region_1.fillna('Unknown')\n",
    "\n",
    "reviews.groupby('region_1').region_1.count().sort_values(ascending=False)"
   ]
  },
  {
   "cell_type": "code",
   "execution_count": 31,
   "id": "eb90e5c3-9770-417e-956a-d4dff41827b1",
   "metadata": {},
   "outputs": [
    {
     "data": {
      "text/plain": [
       "region_1\n",
       "Unknown                               21247\n",
       "Napa Valley                            4480\n",
       "Columbia Valley (WA)                   4124\n",
       "Russian River Valley                   3091\n",
       "California                             2629\n",
       "                                      ...  \n",
       "Sonoma-Santa Barbara-Mendocino            1\n",
       "Sonoma County-Santa Barbara County        1\n",
       "Del Veneto                                1\n",
       "Bardolino Superiore                       1\n",
       "Paestum                                   1\n",
       "Name: count, Length: 1230, dtype: int64"
      ]
     },
     "execution_count": 31,
     "metadata": {},
     "output_type": "execute_result"
    }
   ],
   "source": [
    "reviews_region_1_unknown = reviews.region_1.fillna('Unknown')\n",
    "reviews_region_1_unknown.value_counts().sort_values(ascending=False)"
   ]
  }
 ],
 "metadata": {
  "kernelspec": {
   "display_name": "Python 3 (ipykernel)",
   "language": "python",
   "name": "python3"
  },
  "language_info": {
   "codemirror_mode": {
    "name": "ipython",
    "version": 3
   },
   "file_extension": ".py",
   "mimetype": "text/x-python",
   "name": "python",
   "nbconvert_exporter": "python",
   "pygments_lexer": "ipython3",
   "version": "3.12.9"
  }
 },
 "nbformat": 4,
 "nbformat_minor": 5
}
